{
  "nbformat": 4,
  "nbformat_minor": 0,
  "metadata": {
    "colab": {
      "name": "Pandas Lecture-1(Series).ipynb",
      "provenance": [],
      "collapsed_sections": [],
      "authorship_tag": "ABX9TyO1Tn3ViCDT5qVFvJRanGge",
      "include_colab_link": true
    },
    "kernelspec": {
      "name": "python3",
      "display_name": "Python 3"
    }
  },
  "cells": [
    {
      "cell_type": "markdown",
      "metadata": {
        "id": "view-in-github",
        "colab_type": "text"
      },
      "source": [
        "<a href=\"https://colab.research.google.com/github/RsdTanmoy/Machine-Learning-Pandas/blob/main/Pandas_Lecture_1(Series).ipynb\" target=\"_parent\"><img src=\"https://colab.research.google.com/assets/colab-badge.svg\" alt=\"Open In Colab\"/></a>"
      ]
    },
    {
      "cell_type": "code",
      "metadata": {
        "id": "J37sOUW7WWIO"
      },
      "source": [
        "import pandas as pd"
      ],
      "execution_count": null,
      "outputs": []
    },
    {
      "cell_type": "markdown",
      "metadata": {
        "id": "Ew18CEg_ctFX"
      },
      "source": [
        "**Check Version**"
      ]
    },
    {
      "cell_type": "code",
      "metadata": {
        "colab": {
          "base_uri": "https://localhost:8080/",
          "height": 35
        },
        "id": "3GY5YwWUZiMv",
        "outputId": "2ec12745-3e2d-46f2-c0a8-98e0f606d381"
      },
      "source": [
        "pd.__version__"
      ],
      "execution_count": null,
      "outputs": [
        {
          "output_type": "execute_result",
          "data": {
            "application/vnd.google.colaboratory.intrinsic+json": {
              "type": "string"
            },
            "text/plain": [
              "'1.1.5'"
            ]
          },
          "metadata": {
            "tags": []
          },
          "execution_count": 2
        }
      ]
    },
    {
      "cell_type": "markdown",
      "metadata": {
        "id": "e7ZWc9oEcx2e"
      },
      "source": [
        "**Creating Series**"
      ]
    },
    {
      "cell_type": "code",
      "metadata": {
        "colab": {
          "base_uri": "https://localhost:8080/"
        },
        "id": "DlTckXopZ4Nl",
        "outputId": "d7fe4d57-6cc8-4a2c-91d8-2e9326432879"
      },
      "source": [
        "list_s = [1,2,-3,6.2,'data values']\r\n",
        "print(list_s)"
      ],
      "execution_count": null,
      "outputs": [
        {
          "output_type": "stream",
          "text": [
            "[1, 2, -3, 6.2, 'data values']\n"
          ],
          "name": "stdout"
        }
      ]
    },
    {
      "cell_type": "code",
      "metadata": {
        "colab": {
          "base_uri": "https://localhost:8080/"
        },
        "id": "9AKL5YDtafML",
        "outputId": "123cd182-1b93-4d60-c8e1-bbaf9d5d1d69"
      },
      "source": [
        "series_1=pd.Series(list_s)\r\n",
        "\r\n",
        "print(series_1)"
      ],
      "execution_count": null,
      "outputs": [
        {
          "output_type": "stream",
          "text": [
            "0              1\n",
            "1              2\n",
            "2             -3\n",
            "3            6.2\n",
            "4    data values\n",
            "dtype: object\n"
          ],
          "name": "stdout"
        }
      ]
    },
    {
      "cell_type": "markdown",
      "metadata": {
        "id": "HKUWxY6ddEdG"
      },
      "source": [
        "**Checking Type**"
      ]
    },
    {
      "cell_type": "code",
      "metadata": {
        "colab": {
          "base_uri": "https://localhost:8080/"
        },
        "id": "18nl_fODbNlN",
        "outputId": "a2787275-dd4a-4e37-e35c-1224aa6329ca"
      },
      "source": [
        "type(series_1)"
      ],
      "execution_count": null,
      "outputs": [
        {
          "output_type": "execute_result",
          "data": {
            "text/plain": [
              "pandas.core.series.Series"
            ]
          },
          "metadata": {
            "tags": []
          },
          "execution_count": 5
        }
      ]
    },
    {
      "cell_type": "code",
      "metadata": {
        "colab": {
          "base_uri": "https://localhost:8080/"
        },
        "id": "ETeMHIELbcRM",
        "outputId": "905f6051-3402-47cd-abb2-d43bbebea062"
      },
      "source": [
        "series_2 = pd.Series([1,2,3,4,5])\r\n",
        "print(series_2)"
      ],
      "execution_count": null,
      "outputs": [
        {
          "output_type": "stream",
          "text": [
            "0    1\n",
            "1    2\n",
            "2    3\n",
            "3    4\n",
            "4    5\n",
            "dtype: int64\n"
          ],
          "name": "stdout"
        }
      ]
    },
    {
      "cell_type": "markdown",
      "metadata": {
        "id": "DzNgCoyadJjW"
      },
      "source": [
        "**Empty Series**"
      ]
    },
    {
      "cell_type": "code",
      "metadata": {
        "colab": {
          "base_uri": "https://localhost:8080/"
        },
        "id": "y_KZnESQcEE5",
        "outputId": "01c7afb3-c2d4-4d82-c731-fed358961e3b"
      },
      "source": [
        "empty_s=pd.Series([])\r\n",
        "print(empty_s)"
      ],
      "execution_count": null,
      "outputs": [
        {
          "output_type": "stream",
          "text": [
            "Series([], dtype: float64)\n"
          ],
          "name": "stdout"
        },
        {
          "output_type": "stream",
          "text": [
            "/usr/local/lib/python3.6/dist-packages/ipykernel_launcher.py:1: DeprecationWarning: The default dtype for empty Series will be 'object' instead of 'float64' in a future version. Specify a dtype explicitly to silence this warning.\n",
            "  \"\"\"Entry point for launching an IPython kernel.\n"
          ],
          "name": "stderr"
        }
      ]
    },
    {
      "cell_type": "markdown",
      "metadata": {
        "id": "90sqlJ8jdOho"
      },
      "source": [
        "**Indexing**"
      ]
    },
    {
      "cell_type": "code",
      "metadata": {
        "colab": {
          "base_uri": "https://localhost:8080/"
        },
        "id": "NcDY0ClScWNF",
        "outputId": "012af68d-0e8e-4b0b-8141-aef96b4f85f8"
      },
      "source": [
        "series_3 = pd.Series([1,2,3,4,5], index=['a','b','c','d','e'])\r\n",
        "print(series_3)"
      ],
      "execution_count": null,
      "outputs": [
        {
          "output_type": "stream",
          "text": [
            "a    1\n",
            "b    2\n",
            "c    3\n",
            "d    4\n",
            "e    5\n",
            "dtype: int64\n"
          ],
          "name": "stdout"
        }
      ]
    },
    {
      "cell_type": "markdown",
      "metadata": {
        "id": "p-EGLoDld7gO"
      },
      "source": [
        "**Change Datatype**"
      ]
    },
    {
      "cell_type": "code",
      "metadata": {
        "colab": {
          "base_uri": "https://localhost:8080/"
        },
        "id": "SY4X0Hyjdd39",
        "outputId": "354b0b8b-7e55-48ec-f376-09520c42bd65"
      },
      "source": [
        "series_4 = pd.Series([1,2,3,4,5], index=['a','b','c','d','e'], dtype= float)\r\n",
        "print(series_4)"
      ],
      "execution_count": null,
      "outputs": [
        {
          "output_type": "stream",
          "text": [
            "a    1.0\n",
            "b    2.0\n",
            "c    3.0\n",
            "d    4.0\n",
            "e    5.0\n",
            "dtype: float64\n"
          ],
          "name": "stdout"
        }
      ]
    },
    {
      "cell_type": "markdown",
      "metadata": {
        "id": "hfj2-Zb4eSbT"
      },
      "source": [
        "**Name insert**"
      ]
    },
    {
      "cell_type": "code",
      "metadata": {
        "colab": {
          "base_uri": "https://localhost:8080/"
        },
        "id": "DBqHSuTleF5_",
        "outputId": "2efcdb45-3ebe-4bc7-89fc-72fe151c25bc"
      },
      "source": [
        "series_4 = pd.Series([1,2,3,4,5], index=['a','b','c','d','e'], dtype= float, name= 'Data Values')\r\n",
        "print(series_4)"
      ],
      "execution_count": null,
      "outputs": [
        {
          "output_type": "stream",
          "text": [
            "a    1.0\n",
            "b    2.0\n",
            "c    3.0\n",
            "d    4.0\n",
            "e    5.0\n",
            "Name: Data Values, dtype: float64\n"
          ],
          "name": "stdout"
        }
      ]
    },
    {
      "cell_type": "markdown",
      "metadata": {
        "id": "CT2ZefoQeq_6"
      },
      "source": [
        "**Single Value**"
      ]
    },
    {
      "cell_type": "code",
      "metadata": {
        "colab": {
          "base_uri": "https://localhost:8080/"
        },
        "id": "IJFxFOoTea92",
        "outputId": "ffb5921e-d887-4caa-da9e-195cd846e530"
      },
      "source": [
        "scaler_s=pd.Series(0.5)\r\n",
        "print(scaler_s)"
      ],
      "execution_count": null,
      "outputs": [
        {
          "output_type": "stream",
          "text": [
            "0    0.5\n",
            "dtype: float64\n"
          ],
          "name": "stdout"
        }
      ]
    },
    {
      "cell_type": "code",
      "metadata": {
        "colab": {
          "base_uri": "https://localhost:8080/"
        },
        "id": "M4-kNj0le4WS",
        "outputId": "400b15af-98a4-4076-caa2-96175e6a7ed4"
      },
      "source": [
        "scaler_s=pd.Series(0.5, index=[1,2,3])\r\n",
        "print(scaler_s)"
      ],
      "execution_count": null,
      "outputs": [
        {
          "output_type": "stream",
          "text": [
            "1    0.5\n",
            "2    0.5\n",
            "3    0.5\n",
            "dtype: float64\n"
          ],
          "name": "stdout"
        }
      ]
    },
    {
      "cell_type": "markdown",
      "metadata": {
        "id": "5QzF1vQefNrC"
      },
      "source": [
        "**Series with Dictionary**"
      ]
    },
    {
      "cell_type": "code",
      "metadata": {
        "colab": {
          "base_uri": "https://localhost:8080/"
        },
        "id": "ZY_wnRYJfIxH",
        "outputId": "72b49503-41e3-438c-dca2-4c3aca09530a"
      },
      "source": [
        "dict_s=pd.Series({'a':1,'b':2,'c':3})\r\n",
        "print(dict_s)"
      ],
      "execution_count": null,
      "outputs": [
        {
          "output_type": "stream",
          "text": [
            "a    1\n",
            "b    2\n",
            "c    3\n",
            "dtype: int64\n"
          ],
          "name": "stdout"
        }
      ]
    },
    {
      "cell_type": "markdown",
      "metadata": {
        "id": "UMvE61YZf1nA"
      },
      "source": [
        "**Mathematical Operations in Series**"
      ]
    },
    {
      "cell_type": "code",
      "metadata": {
        "colab": {
          "base_uri": "https://localhost:8080/"
        },
        "id": "8JztpFpdfoVk",
        "outputId": "00454df7-e158-4943-a887-671c389ea435"
      },
      "source": [
        "s_1=pd.Series([1,2,3,4,5])\r\n",
        "print(s_1)"
      ],
      "execution_count": null,
      "outputs": [
        {
          "output_type": "stream",
          "text": [
            "0    1\n",
            "1    2\n",
            "2    3\n",
            "3    4\n",
            "4    5\n",
            "dtype: int64\n"
          ],
          "name": "stdout"
        }
      ]
    },
    {
      "cell_type": "code",
      "metadata": {
        "colab": {
          "base_uri": "https://localhost:8080/"
        },
        "id": "zlk00YJlgi1B",
        "outputId": "c8ffeb67-579c-4de1-d391-b22340eee0d9"
      },
      "source": [
        "s_1[1]"
      ],
      "execution_count": null,
      "outputs": [
        {
          "output_type": "execute_result",
          "data": {
            "text/plain": [
              "2"
            ]
          },
          "metadata": {
            "tags": []
          },
          "execution_count": 17
        }
      ]
    },
    {
      "cell_type": "code",
      "metadata": {
        "colab": {
          "base_uri": "https://localhost:8080/"
        },
        "id": "YSA3V1zQhB4c",
        "outputId": "ca133e06-9c22-466b-d588-8aef681c1581"
      },
      "source": [
        "s_1[4]"
      ],
      "execution_count": null,
      "outputs": [
        {
          "output_type": "execute_result",
          "data": {
            "text/plain": [
              "5"
            ]
          },
          "metadata": {
            "tags": []
          },
          "execution_count": 18
        }
      ]
    },
    {
      "cell_type": "markdown",
      "metadata": {
        "id": "rI2vzt6WhToV"
      },
      "source": [
        "**Slicing in Series**"
      ]
    },
    {
      "cell_type": "code",
      "metadata": {
        "colab": {
          "base_uri": "https://localhost:8080/"
        },
        "id": "g62DTS1ohGG4",
        "outputId": "95bd020b-c70a-4932-c3c1-540a464a0865"
      },
      "source": [
        "s_1[0:3]"
      ],
      "execution_count": null,
      "outputs": [
        {
          "output_type": "execute_result",
          "data": {
            "text/plain": [
              "0    1\n",
              "1    2\n",
              "2    3\n",
              "dtype: int64"
            ]
          },
          "metadata": {
            "tags": []
          },
          "execution_count": 20
        }
      ]
    },
    {
      "cell_type": "code",
      "metadata": {
        "colab": {
          "base_uri": "https://localhost:8080/"
        },
        "id": "Cve9yb64hiWO",
        "outputId": "c45c7c27-1399-47ca-ee95-916a7b2c349b"
      },
      "source": [
        "max(s_1)"
      ],
      "execution_count": null,
      "outputs": [
        {
          "output_type": "execute_result",
          "data": {
            "text/plain": [
              "5"
            ]
          },
          "metadata": {
            "tags": []
          },
          "execution_count": 21
        }
      ]
    },
    {
      "cell_type": "code",
      "metadata": {
        "colab": {
          "base_uri": "https://localhost:8080/"
        },
        "id": "bQIzhIsOhvLA",
        "outputId": "7a2083e1-0d72-4b81-caf7-f20bb92dff56"
      },
      "source": [
        "min(s_1)"
      ],
      "execution_count": null,
      "outputs": [
        {
          "output_type": "execute_result",
          "data": {
            "text/plain": [
              "1"
            ]
          },
          "metadata": {
            "tags": []
          },
          "execution_count": 22
        }
      ]
    },
    {
      "cell_type": "code",
      "metadata": {
        "colab": {
          "base_uri": "https://localhost:8080/"
        },
        "id": "rkBOqdDkhxRE",
        "outputId": "2a378398-9dc7-47c5-8bed-83230952d2fb"
      },
      "source": [
        "s_1[s_1>3]"
      ],
      "execution_count": null,
      "outputs": [
        {
          "output_type": "execute_result",
          "data": {
            "text/plain": [
              "3    4\n",
              "4    5\n",
              "dtype: int64"
            ]
          },
          "metadata": {
            "tags": []
          },
          "execution_count": 23
        }
      ]
    },
    {
      "cell_type": "code",
      "metadata": {
        "colab": {
          "base_uri": "https://localhost:8080/"
        },
        "id": "JqCorTCih_tT",
        "outputId": "32f34c64-e8f8-4e4c-d1e9-e97b91d47d3c"
      },
      "source": [
        "s_1[s_1<3]"
      ],
      "execution_count": null,
      "outputs": [
        {
          "output_type": "execute_result",
          "data": {
            "text/plain": [
              "0    1\n",
              "1    2\n",
              "dtype: int64"
            ]
          },
          "metadata": {
            "tags": []
          },
          "execution_count": 24
        }
      ]
    },
    {
      "cell_type": "code",
      "metadata": {
        "colab": {
          "base_uri": "https://localhost:8080/"
        },
        "id": "wJIAANpXiDAE",
        "outputId": "3342c0e6-d0f4-464e-cbc2-7b604e7e6f05"
      },
      "source": [
        "s_1"
      ],
      "execution_count": null,
      "outputs": [
        {
          "output_type": "execute_result",
          "data": {
            "text/plain": [
              "0    1\n",
              "1    2\n",
              "2    3\n",
              "3    4\n",
              "4    5\n",
              "dtype: int64"
            ]
          },
          "metadata": {
            "tags": []
          },
          "execution_count": 25
        }
      ]
    },
    {
      "cell_type": "code",
      "metadata": {
        "colab": {
          "base_uri": "https://localhost:8080/"
        },
        "id": "-rQmrr4kiPWJ",
        "outputId": "80316204-18bb-4775-ddd5-00768fb00323"
      },
      "source": [
        "s_2=pd.Series([6,7,8,9,10])\r\n",
        "print(s_2)"
      ],
      "execution_count": null,
      "outputs": [
        {
          "output_type": "stream",
          "text": [
            "0     6\n",
            "1     7\n",
            "2     8\n",
            "3     9\n",
            "4    10\n",
            "dtype: int64\n"
          ],
          "name": "stdout"
        }
      ]
    },
    {
      "cell_type": "code",
      "metadata": {
        "colab": {
          "base_uri": "https://localhost:8080/"
        },
        "id": "MFAQfYDCiZHB",
        "outputId": "3a9b3e39-885e-4aa3-fa7b-4c18635bdee2"
      },
      "source": [
        "s_1 + s_2"
      ],
      "execution_count": null,
      "outputs": [
        {
          "output_type": "execute_result",
          "data": {
            "text/plain": [
              "0     7\n",
              "1     9\n",
              "2    11\n",
              "3    13\n",
              "4    15\n",
              "dtype: int64"
            ]
          },
          "metadata": {
            "tags": []
          },
          "execution_count": 27
        }
      ]
    },
    {
      "cell_type": "code",
      "metadata": {
        "colab": {
          "base_uri": "https://localhost:8080/"
        },
        "id": "GNBhn5OOifG9",
        "outputId": "5313c70d-dafe-4162-daef-45b5b0963005"
      },
      "source": [
        "s_3=pd.Series([1,2,3])\r\n",
        "print(s_3)"
      ],
      "execution_count": null,
      "outputs": [
        {
          "output_type": "stream",
          "text": [
            "0    1\n",
            "1    2\n",
            "2    3\n",
            "dtype: int64\n"
          ],
          "name": "stdout"
        }
      ]
    },
    {
      "cell_type": "code",
      "metadata": {
        "colab": {
          "base_uri": "https://localhost:8080/"
        },
        "id": "wdUfgpdwiuV4",
        "outputId": "43795ec1-f410-4efa-bbbf-2b9bdda69982"
      },
      "source": [
        "s_1 + s_3"
      ],
      "execution_count": null,
      "outputs": [
        {
          "output_type": "execute_result",
          "data": {
            "text/plain": [
              "0    2.0\n",
              "1    4.0\n",
              "2    6.0\n",
              "3    NaN\n",
              "4    NaN\n",
              "dtype: float64"
            ]
          },
          "metadata": {
            "tags": []
          },
          "execution_count": 29
        }
      ]
    },
    {
      "cell_type": "code",
      "metadata": {
        "id": "DzB53ATdixgU"
      },
      "source": [
        ""
      ],
      "execution_count": null,
      "outputs": []
    }
  ]
}